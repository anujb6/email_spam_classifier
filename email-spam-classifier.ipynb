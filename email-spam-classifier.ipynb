{
 "cells": [
  {
   "cell_type": "markdown",
   "id": "42f95f0f",
   "metadata": {
    "papermill": {
     "duration": 0.005763,
     "end_time": "2022-12-20T09:52:22.514701",
     "exception": false,
     "start_time": "2022-12-20T09:52:22.508938",
     "status": "completed"
    },
    "tags": []
   },
   "source": []
  },
  {
   "cell_type": "code",
   "execution_count": 1,
   "id": "ac0a2c03",
   "metadata": {
    "_cell_guid": "b1076dfc-b9ad-4769-8c92-a6c4dae69d19",
    "_uuid": "8f2839f25d086af736a60e9eeb907d3b93b6e0e5",
    "execution": {
     "iopub.execute_input": "2022-12-20T09:52:22.526207Z",
     "iopub.status.busy": "2022-12-20T09:52:22.525091Z",
     "iopub.status.idle": "2022-12-20T09:52:24.855227Z",
     "shell.execute_reply": "2022-12-20T09:52:24.853973Z"
    },
    "papermill": {
     "duration": 2.339351,
     "end_time": "2022-12-20T09:52:24.858855",
     "exception": false,
     "start_time": "2022-12-20T09:52:22.519504",
     "status": "completed"
    },
    "tags": []
   },
   "outputs": [],
   "source": [
    "import numpy as np\n",
    "import pandas as pd\n",
    "import nltk\n",
    "import matplotlib.pyplot as plt\n",
    "from sklearn.preprocessing import LabelEncoder"
   ]
  },
  {
   "cell_type": "code",
   "execution_count": 2,
   "id": "e6a79eb1",
   "metadata": {
    "execution": {
     "iopub.execute_input": "2022-12-20T09:52:24.872361Z",
     "iopub.status.busy": "2022-12-20T09:52:24.871932Z",
     "iopub.status.idle": "2022-12-20T09:52:24.948928Z",
     "shell.execute_reply": "2022-12-20T09:52:24.947742Z"
    },
    "papermill": {
     "duration": 0.087807,
     "end_time": "2022-12-20T09:52:24.952585",
     "exception": false,
     "start_time": "2022-12-20T09:52:24.864778",
     "status": "completed"
    },
    "tags": []
   },
   "outputs": [
    {
     "name": "stdout",
     "output_type": "stream",
     "text": [
      "<class 'pandas.core.frame.DataFrame'>\n",
      "RangeIndex: 5572 entries, 0 to 5571\n",
      "Data columns (total 5 columns):\n",
      " #   Column      Non-Null Count  Dtype \n",
      "---  ------      --------------  ----- \n",
      " 0   v1          5572 non-null   object\n",
      " 1   v2          5572 non-null   object\n",
      " 2   Unnamed: 2  50 non-null     object\n",
      " 3   Unnamed: 3  12 non-null     object\n",
      " 4   Unnamed: 4  6 non-null      object\n",
      "dtypes: object(5)\n",
      "memory usage: 217.8+ KB\n"
     ]
    }
   ],
   "source": [
    "df = pd.read_csv('/kaggle/input/sms-spam-collection-dataset/spam.csv', encoding='latin-1')\n",
    "df.info()"
   ]
  },
  {
   "cell_type": "code",
   "execution_count": 3,
   "id": "e6c82cd9",
   "metadata": {
    "execution": {
     "iopub.execute_input": "2022-12-20T09:52:24.965891Z",
     "iopub.status.busy": "2022-12-20T09:52:24.965464Z",
     "iopub.status.idle": "2022-12-20T09:52:24.971982Z",
     "shell.execute_reply": "2022-12-20T09:52:24.970747Z"
    },
    "papermill": {
     "duration": 0.01596,
     "end_time": "2022-12-20T09:52:24.974265",
     "exception": false,
     "start_time": "2022-12-20T09:52:24.958305",
     "status": "completed"
    },
    "tags": []
   },
   "outputs": [],
   "source": [
    "# dropping last three columns cause they contain most NaN values\n",
    "df.drop(columns=['Unnamed: 2','Unnamed: 3','Unnamed: 4'], inplace=True)"
   ]
  },
  {
   "cell_type": "code",
   "execution_count": 4,
   "id": "9b7a1781",
   "metadata": {
    "execution": {
     "iopub.execute_input": "2022-12-20T09:52:24.984053Z",
     "iopub.status.busy": "2022-12-20T09:52:24.983643Z",
     "iopub.status.idle": "2022-12-20T09:52:25.002756Z",
     "shell.execute_reply": "2022-12-20T09:52:25.001488Z"
    },
    "papermill": {
     "duration": 0.027672,
     "end_time": "2022-12-20T09:52:25.005985",
     "exception": false,
     "start_time": "2022-12-20T09:52:24.978313",
     "status": "completed"
    },
    "tags": []
   },
   "outputs": [
    {
     "data": {
      "text/html": [
       "<div>\n",
       "<style scoped>\n",
       "    .dataframe tbody tr th:only-of-type {\n",
       "        vertical-align: middle;\n",
       "    }\n",
       "\n",
       "    .dataframe tbody tr th {\n",
       "        vertical-align: top;\n",
       "    }\n",
       "\n",
       "    .dataframe thead th {\n",
       "        text-align: right;\n",
       "    }\n",
       "</style>\n",
       "<table border=\"1\" class=\"dataframe\">\n",
       "  <thead>\n",
       "    <tr style=\"text-align: right;\">\n",
       "      <th></th>\n",
       "      <th>target</th>\n",
       "      <th>text</th>\n",
       "    </tr>\n",
       "  </thead>\n",
       "  <tbody>\n",
       "    <tr>\n",
       "      <th>38</th>\n",
       "      <td>ham</td>\n",
       "      <td>Anything lor... U decide...</td>\n",
       "    </tr>\n",
       "    <tr>\n",
       "      <th>2290</th>\n",
       "      <td>ham</td>\n",
       "      <td>HEY THERE BABE, HOW U DOIN? WOT U UP 2 2NITE L...</td>\n",
       "    </tr>\n",
       "    <tr>\n",
       "      <th>760</th>\n",
       "      <td>spam</td>\n",
       "      <td>Romantic Paris. 2 nights, 2 flights from å£79 ...</td>\n",
       "    </tr>\n",
       "    <tr>\n",
       "      <th>18</th>\n",
       "      <td>ham</td>\n",
       "      <td>Fine if thatåÕs the way u feel. ThatåÕs the wa...</td>\n",
       "    </tr>\n",
       "    <tr>\n",
       "      <th>5224</th>\n",
       "      <td>ham</td>\n",
       "      <td>\\OH FUCK. JUSWOKE UP IN A BED ON A BOATIN THE ...</td>\n",
       "    </tr>\n",
       "  </tbody>\n",
       "</table>\n",
       "</div>"
      ],
      "text/plain": [
       "     target                                               text\n",
       "38      ham                        Anything lor... U decide...\n",
       "2290    ham  HEY THERE BABE, HOW U DOIN? WOT U UP 2 2NITE L...\n",
       "760    spam  Romantic Paris. 2 nights, 2 flights from å£79 ...\n",
       "18      ham  Fine if thatåÕs the way u feel. ThatåÕs the wa...\n",
       "5224    ham  \\OH FUCK. JUSWOKE UP IN A BED ON A BOATIN THE ..."
      ]
     },
     "execution_count": 4,
     "metadata": {},
     "output_type": "execute_result"
    }
   ],
   "source": [
    "#renaming columns\n",
    "df.rename(columns = {'v1':'target', 'v2':'text'}, inplace=True)\n",
    "df.sample(5)"
   ]
  },
  {
   "cell_type": "code",
   "execution_count": 5,
   "id": "759321c1",
   "metadata": {
    "execution": {
     "iopub.execute_input": "2022-12-20T09:52:25.018445Z",
     "iopub.status.busy": "2022-12-20T09:52:25.016754Z",
     "iopub.status.idle": "2022-12-20T09:52:25.022984Z",
     "shell.execute_reply": "2022-12-20T09:52:25.021918Z"
    },
    "papermill": {
     "duration": 0.014591,
     "end_time": "2022-12-20T09:52:25.025518",
     "exception": false,
     "start_time": "2022-12-20T09:52:25.010927",
     "status": "completed"
    },
    "tags": []
   },
   "outputs": [],
   "source": [
    "encoder = LabelEncoder()"
   ]
  },
  {
   "cell_type": "code",
   "execution_count": 6,
   "id": "1826880d",
   "metadata": {
    "execution": {
     "iopub.execute_input": "2022-12-20T09:52:25.036343Z",
     "iopub.status.busy": "2022-12-20T09:52:25.035928Z",
     "iopub.status.idle": "2022-12-20T09:52:25.044112Z",
     "shell.execute_reply": "2022-12-20T09:52:25.043088Z"
    },
    "papermill": {
     "duration": 0.017322,
     "end_time": "2022-12-20T09:52:25.047115",
     "exception": false,
     "start_time": "2022-12-20T09:52:25.029793",
     "status": "completed"
    },
    "tags": []
   },
   "outputs": [],
   "source": [
    "df['target'] = encoder.fit_transform(df['target'])"
   ]
  },
  {
   "cell_type": "code",
   "execution_count": 7,
   "id": "fd430816",
   "metadata": {
    "execution": {
     "iopub.execute_input": "2022-12-20T09:52:25.057952Z",
     "iopub.status.busy": "2022-12-20T09:52:25.057156Z",
     "iopub.status.idle": "2022-12-20T09:52:25.068016Z",
     "shell.execute_reply": "2022-12-20T09:52:25.066699Z"
    },
    "papermill": {
     "duration": 0.019202,
     "end_time": "2022-12-20T09:52:25.070631",
     "exception": false,
     "start_time": "2022-12-20T09:52:25.051429",
     "status": "completed"
    },
    "tags": []
   },
   "outputs": [
    {
     "data": {
      "text/html": [
       "<div>\n",
       "<style scoped>\n",
       "    .dataframe tbody tr th:only-of-type {\n",
       "        vertical-align: middle;\n",
       "    }\n",
       "\n",
       "    .dataframe tbody tr th {\n",
       "        vertical-align: top;\n",
       "    }\n",
       "\n",
       "    .dataframe thead th {\n",
       "        text-align: right;\n",
       "    }\n",
       "</style>\n",
       "<table border=\"1\" class=\"dataframe\">\n",
       "  <thead>\n",
       "    <tr style=\"text-align: right;\">\n",
       "      <th></th>\n",
       "      <th>target</th>\n",
       "      <th>text</th>\n",
       "    </tr>\n",
       "  </thead>\n",
       "  <tbody>\n",
       "    <tr>\n",
       "      <th>0</th>\n",
       "      <td>0</td>\n",
       "      <td>Go until jurong point, crazy.. Available only ...</td>\n",
       "    </tr>\n",
       "    <tr>\n",
       "      <th>1</th>\n",
       "      <td>0</td>\n",
       "      <td>Ok lar... Joking wif u oni...</td>\n",
       "    </tr>\n",
       "    <tr>\n",
       "      <th>2</th>\n",
       "      <td>1</td>\n",
       "      <td>Free entry in 2 a wkly comp to win FA Cup fina...</td>\n",
       "    </tr>\n",
       "    <tr>\n",
       "      <th>3</th>\n",
       "      <td>0</td>\n",
       "      <td>U dun say so early hor... U c already then say...</td>\n",
       "    </tr>\n",
       "    <tr>\n",
       "      <th>4</th>\n",
       "      <td>0</td>\n",
       "      <td>Nah I don't think he goes to usf, he lives aro...</td>\n",
       "    </tr>\n",
       "  </tbody>\n",
       "</table>\n",
       "</div>"
      ],
      "text/plain": [
       "   target                                               text\n",
       "0       0  Go until jurong point, crazy.. Available only ...\n",
       "1       0                      Ok lar... Joking wif u oni...\n",
       "2       1  Free entry in 2 a wkly comp to win FA Cup fina...\n",
       "3       0  U dun say so early hor... U c already then say...\n",
       "4       0  Nah I don't think he goes to usf, he lives aro..."
      ]
     },
     "execution_count": 7,
     "metadata": {},
     "output_type": "execute_result"
    }
   ],
   "source": [
    "df.head()"
   ]
  },
  {
   "cell_type": "code",
   "execution_count": 8,
   "id": "c345e69b",
   "metadata": {
    "execution": {
     "iopub.execute_input": "2022-12-20T09:52:25.081162Z",
     "iopub.status.busy": "2022-12-20T09:52:25.080762Z",
     "iopub.status.idle": "2022-12-20T09:52:25.093917Z",
     "shell.execute_reply": "2022-12-20T09:52:25.093053Z"
    },
    "papermill": {
     "duration": 0.021458,
     "end_time": "2022-12-20T09:52:25.096453",
     "exception": false,
     "start_time": "2022-12-20T09:52:25.074995",
     "status": "completed"
    },
    "tags": []
   },
   "outputs": [],
   "source": [
    "#checking for duplicate values and removing them\n",
    "df.duplicated().sum()\n",
    "df = df.drop_duplicates(keep='first')"
   ]
  },
  {
   "cell_type": "code",
   "execution_count": 9,
   "id": "f27abe33",
   "metadata": {
    "execution": {
     "iopub.execute_input": "2022-12-20T09:52:25.107793Z",
     "iopub.status.busy": "2022-12-20T09:52:25.106924Z",
     "iopub.status.idle": "2022-12-20T09:52:25.120532Z",
     "shell.execute_reply": "2022-12-20T09:52:25.119218Z"
    },
    "papermill": {
     "duration": 0.02195,
     "end_time": "2022-12-20T09:52:25.123072",
     "exception": false,
     "start_time": "2022-12-20T09:52:25.101122",
     "status": "completed"
    },
    "tags": []
   },
   "outputs": [
    {
     "data": {
      "text/html": [
       "<div>\n",
       "<style scoped>\n",
       "    .dataframe tbody tr th:only-of-type {\n",
       "        vertical-align: middle;\n",
       "    }\n",
       "\n",
       "    .dataframe tbody tr th {\n",
       "        vertical-align: top;\n",
       "    }\n",
       "\n",
       "    .dataframe thead th {\n",
       "        text-align: right;\n",
       "    }\n",
       "</style>\n",
       "<table border=\"1\" class=\"dataframe\">\n",
       "  <thead>\n",
       "    <tr style=\"text-align: right;\">\n",
       "      <th></th>\n",
       "      <th>target</th>\n",
       "      <th>text</th>\n",
       "    </tr>\n",
       "  </thead>\n",
       "  <tbody>\n",
       "    <tr>\n",
       "      <th>0</th>\n",
       "      <td>0</td>\n",
       "      <td>Go until jurong point, crazy.. Available only ...</td>\n",
       "    </tr>\n",
       "    <tr>\n",
       "      <th>1</th>\n",
       "      <td>0</td>\n",
       "      <td>Ok lar... Joking wif u oni...</td>\n",
       "    </tr>\n",
       "    <tr>\n",
       "      <th>2</th>\n",
       "      <td>1</td>\n",
       "      <td>Free entry in 2 a wkly comp to win FA Cup fina...</td>\n",
       "    </tr>\n",
       "    <tr>\n",
       "      <th>3</th>\n",
       "      <td>0</td>\n",
       "      <td>U dun say so early hor... U c already then say...</td>\n",
       "    </tr>\n",
       "    <tr>\n",
       "      <th>4</th>\n",
       "      <td>0</td>\n",
       "      <td>Nah I don't think he goes to usf, he lives aro...</td>\n",
       "    </tr>\n",
       "    <tr>\n",
       "      <th>...</th>\n",
       "      <td>...</td>\n",
       "      <td>...</td>\n",
       "    </tr>\n",
       "    <tr>\n",
       "      <th>5567</th>\n",
       "      <td>1</td>\n",
       "      <td>This is the 2nd time we have tried 2 contact u...</td>\n",
       "    </tr>\n",
       "    <tr>\n",
       "      <th>5568</th>\n",
       "      <td>0</td>\n",
       "      <td>Will Ì_ b going to esplanade fr home?</td>\n",
       "    </tr>\n",
       "    <tr>\n",
       "      <th>5569</th>\n",
       "      <td>0</td>\n",
       "      <td>Pity, * was in mood for that. So...any other s...</td>\n",
       "    </tr>\n",
       "    <tr>\n",
       "      <th>5570</th>\n",
       "      <td>0</td>\n",
       "      <td>The guy did some bitching but I acted like i'd...</td>\n",
       "    </tr>\n",
       "    <tr>\n",
       "      <th>5571</th>\n",
       "      <td>0</td>\n",
       "      <td>Rofl. Its true to its name</td>\n",
       "    </tr>\n",
       "  </tbody>\n",
       "</table>\n",
       "<p>5169 rows × 2 columns</p>\n",
       "</div>"
      ],
      "text/plain": [
       "      target                                               text\n",
       "0          0  Go until jurong point, crazy.. Available only ...\n",
       "1          0                      Ok lar... Joking wif u oni...\n",
       "2          1  Free entry in 2 a wkly comp to win FA Cup fina...\n",
       "3          0  U dun say so early hor... U c already then say...\n",
       "4          0  Nah I don't think he goes to usf, he lives aro...\n",
       "...      ...                                                ...\n",
       "5567       1  This is the 2nd time we have tried 2 contact u...\n",
       "5568       0              Will Ì_ b going to esplanade fr home?\n",
       "5569       0  Pity, * was in mood for that. So...any other s...\n",
       "5570       0  The guy did some bitching but I acted like i'd...\n",
       "5571       0                         Rofl. Its true to its name\n",
       "\n",
       "[5169 rows x 2 columns]"
      ]
     },
     "execution_count": 9,
     "metadata": {},
     "output_type": "execute_result"
    }
   ],
   "source": [
    "df\n"
   ]
  },
  {
   "cell_type": "code",
   "execution_count": 10,
   "id": "7756f61d",
   "metadata": {
    "execution": {
     "iopub.execute_input": "2022-12-20T09:52:25.134069Z",
     "iopub.status.busy": "2022-12-20T09:52:25.133670Z",
     "iopub.status.idle": "2022-12-20T09:52:25.303926Z",
     "shell.execute_reply": "2022-12-20T09:52:25.301349Z"
    },
    "papermill": {
     "duration": 0.179786,
     "end_time": "2022-12-20T09:52:25.307486",
     "exception": false,
     "start_time": "2022-12-20T09:52:25.127700",
     "status": "completed"
    },
    "tags": []
   },
   "outputs": [
    {
     "data": {
      "image/png": "[encoded data removed]",
      "text/plain": [
       "<Figure size 432x288 with 1 Axes>"
      ]
     },
     "metadata": {},
     "output_type": "display_data"
    }
   ],
   "source": [
    "plt.pie(df['target'].value_counts(),labels=['ham','spam'],autopct=\"%0.2f\")\n",
    "plt.show()"
   ]
  },
  {
   "cell_type": "code",
   "execution_count": 11,
   "id": "31b35845",
   "metadata": {
    "execution": {
     "iopub.execute_input": "2022-12-20T09:52:25.333250Z",
     "iopub.status.busy": "2022-12-20T09:52:25.332404Z",
     "iopub.status.idle": "2022-12-20T09:52:45.398109Z",
     "shell.execute_reply": "2022-12-20T09:52:45.396138Z"
    },
    "papermill": {
     "duration": 20.081989,
     "end_time": "2022-12-20T09:52:45.400774",
     "exception": false,
     "start_time": "2022-12-20T09:52:25.318785",
     "status": "completed"
    },
    "tags": []
   },
   "outputs": [
    {
     "name": "stderr",
     "output_type": "stream",
     "text": [
      "[nltk_data] Error loading punkt: <urlopen error [Errno -3] Temporary\n",
      "[nltk_data]     failure in name resolution>\n"
     ]
    },
    {
     "data": {
      "text/plain": [
       "False"
      ]
     },
     "execution_count": 11,
     "metadata": {},
     "output_type": "execute_result"
    }
   ],
   "source": [
    "nltk.download('punkt')"
   ]
  },
  {
   "cell_type": "code",
   "execution_count": 12,
   "id": "f61d9cc2",
   "metadata": {
    "execution": {
     "iopub.execute_input": "2022-12-20T09:52:45.415485Z",
     "iopub.status.busy": "2022-12-20T09:52:45.414277Z",
     "iopub.status.idle": "2022-12-20T09:52:45.427659Z",
     "shell.execute_reply": "2022-12-20T09:52:45.425935Z"
    },
    "papermill": {
     "duration": 0.024304,
     "end_time": "2022-12-20T09:52:45.430874",
     "exception": false,
     "start_time": "2022-12-20T09:52:45.406570",
     "status": "completed"
    },
    "tags": []
   },
   "outputs": [
    {
     "data": {
      "text/plain": [
       "0       111\n",
       "1        29\n",
       "2       155\n",
       "3        49\n",
       "4        61\n",
       "       ... \n",
       "5567    161\n",
       "5568     37\n",
       "5569     57\n",
       "5570    125\n",
       "5571     26\n",
       "Name: text, Length: 5169, dtype: int64"
      ]
     },
     "execution_count": 12,
     "metadata": {},
     "output_type": "execute_result"
    }
   ],
   "source": [
    "df['text'].apply(len)"
   ]
  }
 ],
 "metadata": {
  "kernelspec": {
   "display_name": "Python 3",
   "language": "python",
   "name": "python3"
  },
  "language_info": {
   "codemirror_mode": {
    "name": "ipython",
    "version": 3
   },
   "file_extension": ".py",
   "mimetype": "text/x-python",
   "name": "python",
   "nbconvert_exporter": "python",
   "pygments_lexer": "ipython3",
   "version": "3.7.12"
  },
  "papermill": {
   "default_parameters": {},
   "duration": 33.746834,
   "end_time": "2022-12-20T09:52:46.365568",
   "environment_variables": {},
   "exception": null,
   "input_path": "__notebook__.ipynb",
   "output_path": "__notebook__.ipynb",
   "parameters": {},
   "start_time": "2022-12-20T09:52:12.618734",
   "version": "2.3.4"
  }
 },
 "nbformat": 4,
 "nbformat_minor": 5
}
